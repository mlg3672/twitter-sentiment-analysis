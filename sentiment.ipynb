{
 "cells": [
  {
   "cell_type": "code",
   "execution_count": 115,
   "metadata": {
    "collapsed": true
   },
   "outputs": [],
   "source": [
    "stopWords = ['a','and','the','i','it','this']"
   ]
  },
  {
   "cell_type": "code",
   "execution_count": 43,
   "metadata": {
    "collapsed": true
   },
   "outputs": [],
   "source": [
    "tweets = [('hey @shawn i found this website it is awesome! #skatetricks'), ('@Shorty so happy got a new car today #birthday'), ('i have great friends #friends')]"
   ]
  },
  {
   "cell_type": "code",
   "execution_count": 40,
   "metadata": {
    "collapsed": false
   },
   "outputs": [
    {
     "name": "stdout",
     "output_type": "stream",
     "text": [
      "next one is\n",
      "['hey @shawn i found this website it is awesome! #skatetricks', '@Shorty so happy got a new car today #birthday', 'i have great friends #friends', 'hey @shawn i found this website it is awesome! #skatetricks', '@Shorty so happy got a new car today #birthday', 'i have great friends #friends', 'hey @shawn i found this website it is awesome! #skatetricks', '@Shorty so happy got a new car today #birthday', 'i have great friends #friends', 'hey @shawn i found this website it is awesome! #skatetricks', '@Shorty so happy got a new car today #birthday', 'i have great friends #friends', '1']\n"
     ]
    }
   ],
   "source": [
    "#print(tweets)\n",
    "#list(set(tweets + tweets))\n",
    "print('next one is')\n",
    "tweets.extend('1') \n",
    "print(tweets)"
   ]
  },
  {
   "cell_type": "code",
   "execution_count": 49,
   "metadata": {
    "collapsed": false
   },
   "outputs": [
    {
     "name": "stdout",
     "output_type": "stream",
     "text": [
      "['hey shawn i found this website it is awesome skatetricks', ' shorty so happy got a new car today birthday', 'i have great friends friends']\n"
     ]
    }
   ],
   "source": [
    "import re\n",
    "# pre process tweets \n",
    "nTts = list()\n",
    "for x in tweets:\n",
    "    #to take out special characters @,!,#\n",
    "    twt = re.sub('[^A-Za-z0-9]+', ' ', x)\n",
    "    # make all lower case\n",
    "    twt = twt.lower()\n",
    "    # take out stopWords\n",
    "    if stopWords in twt:\n",
    "        #twt - stopWords fix\n",
    "    nTts.append(twt)\n",
    "print(nTts)                    \n"
   ]
  },
  {
   "cell_type": "code",
   "execution_count": 95,
   "metadata": {
    "collapsed": true
   },
   "outputs": [],
   "source": [
    "string = [('i have a friend she is good'),('you are not my friend')]"
   ]
  },
  {
   "cell_type": "code",
   "execution_count": 142,
   "metadata": {
    "collapsed": false
   },
   "outputs": [
    {
     "ename": "TypeError",
     "evalue": "'builtin_function_or_method' object is not iterable",
     "output_type": "error",
     "traceback": [
      "\u001b[0;31m---------------------------------------------------------------------------\u001b[0m",
      "\u001b[0;31mTypeError\u001b[0m                                 Traceback (most recent call last)",
      "\u001b[0;32m<ipython-input-142-c52b5b5377b9>\u001b[0m in \u001b[0;36m<module>\u001b[0;34m()\u001b[0m\n\u001b[1;32m      6\u001b[0m         \u001b[0mstopList\u001b[0m \u001b[0;34m=\u001b[0m \u001b[0mx\u001b[0m\u001b[0;34m\u001b[0m\u001b[0m\n\u001b[1;32m      7\u001b[0m         \u001b[0mword_list\u001b[0m \u001b[0;34m=\u001b[0m \u001b[0mstring\u001b[0m\u001b[0;34m[\u001b[0m\u001b[0my\u001b[0m\u001b[0;34m]\u001b[0m\u001b[0;34m.\u001b[0m\u001b[0msplit\u001b[0m\u001b[0;34m\u001b[0m\u001b[0m\n\u001b[0;32m----> 8\u001b[0;31m         \u001b[0;34m' '\u001b[0m\u001b[0;34m.\u001b[0m\u001b[0mjoin\u001b[0m\u001b[0;34m(\u001b[0m\u001b[0;34m[\u001b[0m\u001b[0mi\u001b[0m \u001b[0;32mfor\u001b[0m \u001b[0mi\u001b[0m \u001b[0;32min\u001b[0m \u001b[0mword_list\u001b[0m \u001b[0;32mif\u001b[0m \u001b[0mi\u001b[0m \u001b[0;32mnot\u001b[0m \u001b[0;32min\u001b[0m \u001b[0mx\u001b[0m\u001b[0;34m]\u001b[0m\u001b[0;34m)\u001b[0m\u001b[0;34m\u001b[0m\u001b[0m\n\u001b[0m\u001b[1;32m      9\u001b[0m         \u001b[0;31m#if x in string[y]:\u001b[0m\u001b[0;34m\u001b[0m\u001b[0;34m\u001b[0m\u001b[0m\n\u001b[1;32m     10\u001b[0m          \u001b[0;31m#   print('its true, the tweet: \"', string[y], '\" does have the word \"', x,'\"')\u001b[0m\u001b[0;34m\u001b[0m\u001b[0;34m\u001b[0m\u001b[0m\n",
      "\u001b[0;31mTypeError\u001b[0m: 'builtin_function_or_method' object is not iterable"
     ]
    }
   ],
   "source": [
    "newstring = str()\n",
    "for x in stopWords: \n",
    "    #print(x)\n",
    "    for y in range(0,len(string)):\n",
    "        #print(y)\n",
    "        stopList = x\n",
    "        word_list = string[y].split\n",
    "        ' '.join([i for i in word_list if i not in x])\n",
    "        #if x in string[y]:\n",
    "         #   print('its true, the tweet: \"', string[y], '\" does have the word \"', x,'\"')\n",
    "          #  print([i for i in string[y] if x not in string[y]])\n",
    "print(newstring)"
   ]
  },
  {
   "cell_type": "code",
   "execution_count": 166,
   "metadata": {
    "collapsed": false
   },
   "outputs": [
    {
     "name": "stdout",
     "output_type": "stream",
     "text": [
      "['a', 'and', 'the', 'i', 'it', 'this']\n"
     ]
    },
    {
     "data": {
      "text/plain": [
       "''"
      ]
     },
     "execution_count": 166,
     "metadata": {},
     "output_type": "execute_result"
    }
   ],
   "source": [
    "stopList = [x for x in stopWords ]\n",
    "type(stopList)\n",
    "word_list = str(string[y].split)\n",
    "#nwstr= ''.join([b for b in string[y] if stopList not in string[y] ])\n",
    "nwstr"
   ]
  },
  {
   "cell_type": "code",
   "execution_count": 161,
   "metadata": {
    "collapsed": false
   },
   "outputs": [
    {
     "data": {
      "text/plain": [
       "''"
      ]
     },
     "execution_count": 161,
     "metadata": {},
     "output_type": "execute_result"
    }
   ],
   "source": [
    "nwstr= ''.join([b for b in string[y] if 'i' not in string[y] ])\n",
    "nwstr"
   ]
  },
  {
   "cell_type": "code",
   "execution_count": 156,
   "metadata": {
    "collapsed": false
   },
   "outputs": [
    {
     "data": {
      "text/plain": [
       "['i',\n",
       " ' ',\n",
       " 'h',\n",
       " 'a',\n",
       " 'v',\n",
       " 'e',\n",
       " ' ',\n",
       " 'a',\n",
       " ' ',\n",
       " 'f',\n",
       " 'r',\n",
       " 'i',\n",
       " 'e',\n",
       " 'n',\n",
       " 'd',\n",
       " ' ',\n",
       " 's',\n",
       " 'h',\n",
       " 'e',\n",
       " ' ',\n",
       " 'i',\n",
       " 's',\n",
       " ' ',\n",
       " 'g',\n",
       " 'o',\n",
       " 'o',\n",
       " 'd']"
      ]
     },
     "execution_count": 156,
     "metadata": {},
     "output_type": "execute_result"
    }
   ],
   "source": [
    "[ y for y in string[y]]"
   ]
  },
  {
   "cell_type": "code",
   "execution_count": null,
   "metadata": {
    "collapsed": true
   },
   "outputs": [],
   "source": []
  },
  {
   "cell_type": "code",
   "execution_count": null,
   "metadata": {
    "collapsed": true
   },
   "outputs": [],
   "source": []
  }
 ],
 "metadata": {
  "kernelspec": {
   "display_name": "Python 3",
   "language": "python",
   "name": "python3"
  },
  "language_info": {
   "codemirror_mode": {
    "name": "ipython",
    "version": 3
   },
   "file_extension": ".py",
   "mimetype": "text/x-python",
   "name": "python",
   "nbconvert_exporter": "python",
   "pygments_lexer": "ipython3",
   "version": "3.4.3"
  }
 },
 "nbformat": 4,
 "nbformat_minor": 0
}
